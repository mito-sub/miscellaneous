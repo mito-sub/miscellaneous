{
 "cells": [
  {
   "cell_type": "markdown",
   "metadata": {},
   "source": [
    "# 7章 ロジスティクスネットワークの最適設計を行う10本ノック\n",
    "\n",
    "ここでは、最適化計算を行ういくつかのライブラリを用いて、最適化計算を実際に行っていきます。  \n",
    "そして、前章で用いたネットワーク可視化などの技術を駆使し、計算結果の妥当性を確認する方法についても学んでいきます。"
   ]
  },
  {
   "cell_type": "markdown",
   "metadata": {},
   "source": [
    "### ノック６１：輸送最適化問題を解いてみよう"
   ]
  },
  {
   "cell_type": "code",
   "execution_count": 8,
   "metadata": {},
   "outputs": [],
   "source": [
    "#!pip install pulp\n",
    "#!pip install ortoolpy"
   ]
  },
  {
   "cell_type": "code",
   "execution_count": 11,
   "metadata": {},
   "outputs": [
    {
     "name": "stdout",
     "output_type": "stream",
     "text": [
      "    F1  F2  F3  F4\n",
      "工場                \n",
      "W1  28   7   0   0\n",
      "W2   0   0  31   5\n",
      "W3   0  22   0  20\n",
      "総輸送コスト: 1296.0\n"
     ]
    }
   ],
   "source": [
    "import numpy as np\n",
    "import pandas as pd\n",
    "from itertools import product\n",
    "from pulp import LpVariable, lpSum, value\n",
    "from ortoolpy import model_min, addvars, addvals\n",
    "\n",
    "df_tc = pd.read_csv(\"trans_cost.csv\", index_col = \"工場\")\n",
    "df_demand = pd.read_csv(\"demand.csv\")\n",
    "df_supply = pd.read_csv(\"supply.csv\")\n",
    "\n",
    "np.random.seed(1)\n",
    "nw = len(df_tc.index)\n",
    "nf = len(df_tc.columns)\n",
    "pr = list(product(range(nw), range(nf)))\n",
    "\n",
    "m1 = model_min()\n",
    "v1 = {(i,j): LpVariable(\"v%d_%d\" % (i,j), lowBound=0) for i,j in pr}\n",
    "\n",
    "m1 += lpSum(df_tc.iloc[i][j]*v1[i,j] for i,j in pr)\n",
    "for i in range(nw):\n",
    "    m1 += lpSum(v1[i,j] for j in range(nf)) <= df_supply.iloc[0][i]\n",
    "    \n",
    "for j in range(nf):\n",
    "    m1 += lpSum(v1[i,j] for i in range(nw)) >= df_demand.iloc[0][j]\n",
    "    \n",
    "m1.solve()\n",
    "\n",
    "df_tr_sol = df_tc.copy()\n",
    "total_cost = 0\n",
    "for k,x in v1.items():\n",
    "    i,j = k[0], k[1]\n",
    "    df_tr_sol.iloc[i][j] = value(x)\n",
    "    total_cost += df_tc.iloc[i][j]*value(x)\n",
    "    \n",
    "print(df_tr_sol)\n",
    "print(\"総輸送コスト: \" + str(total_cost))"
   ]
  },
  {
   "cell_type": "markdown",
   "metadata": {},
   "source": [
    "### ノック６２：最適輸送ルートをネットワークで確認しよう"
   ]
  },
  {
   "cell_type": "code",
   "execution_count": null,
   "metadata": {},
   "outputs": [],
   "source": []
  },
  {
   "cell_type": "markdown",
   "metadata": {},
   "source": [
    "### ノック６３：最適輸送ルートが制約条件内に収まっているかどうかを確認しよう"
   ]
  },
  {
   "cell_type": "code",
   "execution_count": null,
   "metadata": {},
   "outputs": [],
   "source": []
  },
  {
   "cell_type": "markdown",
   "metadata": {},
   "source": [
    "### ノック６４：生産計画に関するデータを読み込んでみよう"
   ]
  },
  {
   "cell_type": "code",
   "execution_count": null,
   "metadata": {},
   "outputs": [],
   "source": []
  },
  {
   "cell_type": "markdown",
   "metadata": {},
   "source": [
    "### ノック６５：利益を計算する関数を作ってみよう"
   ]
  },
  {
   "cell_type": "code",
   "execution_count": null,
   "metadata": {},
   "outputs": [],
   "source": []
  },
  {
   "cell_type": "markdown",
   "metadata": {},
   "source": [
    "### ノック６６：生産最適化問題を解いてみよう"
   ]
  },
  {
   "cell_type": "code",
   "execution_count": null,
   "metadata": {},
   "outputs": [],
   "source": []
  },
  {
   "cell_type": "markdown",
   "metadata": {},
   "source": [
    "### ノック６７：最適生産計画が制約条件内に収まっているかどうかを確認しよう"
   ]
  },
  {
   "cell_type": "code",
   "execution_count": null,
   "metadata": {},
   "outputs": [],
   "source": []
  },
  {
   "cell_type": "markdown",
   "metadata": {},
   "source": [
    "### ノック６８：ロジスティクスネットワーク設計問題を解いてみよう"
   ]
  },
  {
   "cell_type": "code",
   "execution_count": null,
   "metadata": {},
   "outputs": [],
   "source": []
  },
  {
   "cell_type": "markdown",
   "metadata": {},
   "source": [
    "### ノック６９：最適ネットワークにおける輸送コストとその内訳を計算しよう"
   ]
  },
  {
   "cell_type": "code",
   "execution_count": null,
   "metadata": {},
   "outputs": [],
   "source": []
  },
  {
   "cell_type": "markdown",
   "metadata": {},
   "source": [
    "### ノック７０：最適ネットワークにおける生産コストとその内訳を計算しよう"
   ]
  },
  {
   "cell_type": "code",
   "execution_count": null,
   "metadata": {},
   "outputs": [],
   "source": []
  }
 ],
 "metadata": {
  "kernelspec": {
   "display_name": "Python 3",
   "language": "python",
   "name": "python3"
  },
  "language_info": {
   "codemirror_mode": {
    "name": "ipython",
    "version": 3
   },
   "file_extension": ".py",
   "mimetype": "text/x-python",
   "name": "python",
   "nbconvert_exporter": "python",
   "pygments_lexer": "ipython3",
   "version": "3.7.6"
  }
 },
 "nbformat": 4,
 "nbformat_minor": 4
}
